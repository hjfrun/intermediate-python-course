{
 "cells": [
  {
   "cell_type": "code",
   "execution_count": null,
   "id": "cd688c57",
   "metadata": {},
   "outputs": [],
   "source": [
    "import pandas as pd\n",
    "\n",
    "df = pd.read_csv('pokemon_data.csv')\n",
    "\n",
    "# df_xlsx = pd.read_excel('pokemon_data.xlsx')\n",
    "# df_xlsx.head()\n",
    "# df_xlsx.tail()\n",
    "df.head()\n",
    "\n",
    "# df = pd.read_csv('pokemon_data.txt')\n",
    "# df = pd.read_csv('pokemon_data.txt', delimiter = \"\\t\")"
   ]
  },
  {
   "cell_type": "markdown",
   "id": "f8d543ef",
   "metadata": {},
   "source": [
    "# Reading Data in Pandas"
   ]
  },
  {
   "cell_type": "code",
   "execution_count": null,
   "id": "0cfd8816",
   "metadata": {},
   "outputs": [],
   "source": [
    "## Read Headers\n",
    "# df.columns\n",
    "\n",
    "## Read each column\n",
    "# df['Name'][:5]\n",
    "# df.Name\n",
    "# df[['Name', 'Type 1', 'HP']]\n",
    "\n",
    "## Read each row\n",
    "# df.iloc[1]\n",
    "# df.iloc[1:4]\n",
    "\n",
    "df.loc[df['Type 1'] == 'Grass']\n",
    "\n",
    "# for index, row in df.iterrows():\n",
    "#     print(index, row)\n",
    "\n",
    "## Read a specific location(R, C)\n",
    "# df.iloc[2, 1]\n"
   ]
  },
  {
   "cell_type": "markdown",
   "id": "b2b1f0bd",
   "metadata": {},
   "source": [
    "# Sorting / Describing Data"
   ]
  },
  {
   "cell_type": "code",
   "execution_count": null,
   "id": "9bbd38db",
   "metadata": {},
   "outputs": [],
   "source": [
    "df.describe()"
   ]
  },
  {
   "cell_type": "code",
   "execution_count": null,
   "id": "405c7bbe",
   "metadata": {},
   "outputs": [],
   "source": [
    "# df.sort_values('Name')\n",
    "# df.sort_values('Name', ascending=False)\n",
    "# df.sort_values(['Type 1', 'HP'])\n",
    "df.sort_values(['Type 1', 'HP'], ascending=[1,0])"
   ]
  },
  {
   "cell_type": "markdown",
   "id": "1b4ee441",
   "metadata": {},
   "source": [
    "# Making changes to the data"
   ]
  },
  {
   "cell_type": "code",
   "execution_count": null,
   "id": "59e23097",
   "metadata": {},
   "outputs": [],
   "source": [
    "df['Total'] = df['HP'] + df['Attack'] + df['Defense'] + df['Sp. Atk']+ df['Sp. Def']+ df['Speed']"
   ]
  },
  {
   "cell_type": "code",
   "execution_count": null,
   "id": "d19fa857",
   "metadata": {},
   "outputs": [],
   "source": [
    "df.head()"
   ]
  },
  {
   "cell_type": "code",
   "execution_count": null,
   "id": "e44760cf",
   "metadata": {},
   "outputs": [],
   "source": [
    "# df.drop(columns=['Total'], inplace=True)\n",
    "# df.head()"
   ]
  },
  {
   "cell_type": "code",
   "execution_count": null,
   "id": "e30da5b2",
   "metadata": {},
   "outputs": [],
   "source": [
    "df['Total'] = df.iloc[:, 4:10].sum(axis=1)\n",
    "df"
   ]
  },
  {
   "cell_type": "code",
   "execution_count": null,
   "id": "e24bbfe2",
   "metadata": {},
   "outputs": [],
   "source": [
    "df.to_csv('modified.csv', index=False)"
   ]
  },
  {
   "cell_type": "code",
   "execution_count": null,
   "id": "a23a322d",
   "metadata": {},
   "outputs": [],
   "source": [
    "new_df = df.loc[(df['Type 1'] == 'Grass') & (df['Type 2'] == 'Poison') & (df['HP'] > 70)]\n",
    "new_df.reset_index(drop=True, inplace=True)\n",
    "new_df"
   ]
  },
  {
   "cell_type": "code",
   "execution_count": null,
   "id": "be9dd0c3",
   "metadata": {},
   "outputs": [],
   "source": [
    "df.loc[~df['Name'].str.contains('Mega')]"
   ]
  },
  {
   "cell_type": "code",
   "execution_count": null,
   "id": "307cb1b5",
   "metadata": {},
   "outputs": [],
   "source": [
    "import re\n",
    "\n",
    "# df.loc[df['Type 1'].str.contains('Fire|Grass', regex=True)]\n",
    "df.loc[df['Type 1'].str.contains('fire|grass', flags=re.I, regex=True)]"
   ]
  },
  {
   "cell_type": "code",
   "execution_count": null,
   "id": "2a7c5837",
   "metadata": {},
   "outputs": [],
   "source": [
    "df.loc[df['Type 1'] == 'Flamer', 'Type 1'] = 'Fire'\n",
    "df"
   ]
  },
  {
   "cell_type": "markdown",
   "id": "56c32c49",
   "metadata": {},
   "source": [
    "# Aggregate Statistics ( Groupby)"
   ]
  },
  {
   "cell_type": "code",
   "execution_count": null,
   "id": "16177235",
   "metadata": {},
   "outputs": [],
   "source": [
    "df = pd.read_csv('modified.csv')\n",
    "# df.groupby(['Type 1']).mean().sort_values('Defense', ascending=False)\n",
    "df.groupby(['Type 1']).sum()"
   ]
  },
  {
   "cell_type": "code",
   "execution_count": null,
   "id": "bb57420b",
   "metadata": {},
   "outputs": [],
   "source": []
  }
 ],
 "metadata": {
  "interpreter": {
   "hash": "c47e1c11a3caa45c3012ceb20206f98b569987618dfe3944924c91c778d7fc2d"
  },
  "kernelspec": {
   "display_name": "Python 3 (ipykernel)",
   "language": "python",
   "name": "python3"
  },
  "language_info": {
   "codemirror_mode": {
    "name": "ipython",
    "version": 3
   },
   "file_extension": ".py",
   "mimetype": "text/x-python",
   "name": "python",
   "nbconvert_exporter": "python",
   "pygments_lexer": "ipython3",
   "version": "3.9.7"
  }
 },
 "nbformat": 4,
 "nbformat_minor": 5
}
